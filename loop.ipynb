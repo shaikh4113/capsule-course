{
 "cells": [
  {
   "cell_type": "code",
   "execution_count": 13,
   "metadata": {},
   "outputs": [
    {
     "name": "stdout",
     "output_type": "stream",
     "text": [
      "234 is not a palendrom number\n"
     ]
    }
   ],
   "source": [
    "a=(int)(input(\"enter a number\"))\n",
    "temp = a\n",
    "sum=0\n",
    "while temp!=0:\n",
    "    rem=temp%10\n",
    "    temp=temp//10\n",
    "    sum = sum*10+rem\n",
    "\n",
    "if sum == a:\n",
    "    print(f\"{a} is a palendrome number\")\n",
    "else:\n",
    "    print(f\"{a} is not a palendrom number\")\n",
    "\n"
   ]
  },
  {
   "cell_type": "code",
   "execution_count": 1,
   "metadata": {},
   "outputs": [
    {
     "name": "stdout",
     "output_type": "stream",
     "text": [
      "0 is a parlindrome number \n"
     ]
    }
   ],
   "source": [
    "a =int (input(\"enter any number\"))\n",
    "sum=0\n",
    "temp=a\n",
    "while temp !=0:\n",
    "    rem = temp % 10\n",
    "    sum = sum *10 + rem\n",
    "    temp = temp // 10\n",
    "if sum == a:\n",
    "     print(f\"{a} is a parlindrome number \")\n",
    "else:\n",
    "    print(f\"{a} is not a palindrome number\")\n",
    "\n",
    "\n"
   ]
  },
  {
   "cell_type": "code",
   "execution_count": 17,
   "metadata": {},
   "outputs": [
    {
     "name": "stdout",
     "output_type": "stream",
     "text": [
      "* \n",
      "* * \n",
      "* * * \n",
      "* * * * \n",
      "* * * * * \n",
      "* * * * * * \n",
      "* * * * * * * \n",
      "* * * * * * * * \n",
      "* * * * * * * * * \n"
     ]
    }
   ],
   "source": [
    "a = (int)(input(\"enter any number\"))\n",
    "for i in range(a):\n",
    "    for j in range (i+1):\n",
    "        print(\"*\",end=\" \") \n",
    "    print()\n"
   ]
  },
  {
   "cell_type": "code",
   "execution_count": null,
   "metadata": {},
   "outputs": [
    {
     "name": "stdout",
     "output_type": "stream",
     "text": [
      "not a prime number\n"
     ]
    }
   ],
   "source": [
    "a = (int)(input(\"enter a number\"))\n",
    "c=0\n",
    "for i in range(2,a+1):            \n",
    "    if a%i==0:\n",
    "        c=c+1\n",
    "if c== 1:\n",
    "    print(\"prime number\")\n",
    "else:\n",
    "    print(\"not a prime number\")\n",
    "\n",
    "    "
   ]
  },
  {
   "cell_type": "code",
   "execution_count": 4,
   "metadata": {},
   "outputs": [
    {
     "name": "stdout",
     "output_type": "stream",
     "text": [
      "0.88\n"
     ]
    }
   ],
   "source": [
    "#simple interest\n",
    "principle= int(input('enter the principle amount: '))\n",
    "time=  int(input('enter the  of time: '))\n",
    "rate=  int(input('enter the rate  ')) \n",
    "si = (principle*time*rate)/100\n",
    "print(si )\n",
    "\n",
    "\n",
    "\n",
    "\n",
    "\n",
    "\n"
   ]
  },
  {
   "cell_type": "code",
   "execution_count": null,
   "metadata": {},
   "outputs": [],
   "source": [
    "#pythagoras theorem\n",
    "a=int(input('enter the value of first side of triangle:'))\n",
    "b=int(input('enter the value of secand side of triangle:'))\n",
    "c=int(\"enter the value of the side which you want to find (ex:H for hypotanus b for base p for perpendicular)\") \n",
    "ans=0\n",
    "match c:\n",
    "    case \"H\":\n",
    "        ans =(a**2+b**2)**0,5\n",
    "        print(\"the value of hypotanus is {ans}\")\n",
    "    case \"B\":\n",
    "        ans =(\"the value of base is {ans}\")\n",
    "        print (\"the valu of peropendicular{ans}\")\n",
    "    case \"C\":\n",
    "        ans =(\"the value of \")"
   ]
  },
  {
   "cell_type": "code",
   "execution_count": 18,
   "metadata": {},
   "outputs": [
    {
     "name": "stdout",
     "output_type": "stream",
     "text": [
      "gretest no: 67\n"
     ]
    }
   ],
   "source": [
    "#maximum between 3 nos \n",
    "a=int(input(\"enter the number: \"))\n",
    "b=int(input(\"enter the number: \"))\n",
    "c=int(input(\"enter the number: \"))\n",
    "if a>b & a>c:\n",
    "    print(\"gretest no:\",a)\n",
    "elif b>a & b>c:\n",
    "    print(\"gretest no:\",b)\n",
    "else:\n",
    "    print(\"gretest no:\",b)\n"
   ]
  },
  {
   "cell_type": "code",
   "execution_count": 21,
   "metadata": {},
   "outputs": [
    {
     "name": "stdout",
     "output_type": "stream",
     "text": [
      "the numner is divisible by 5 and 11\n"
     ]
    }
   ],
   "source": [
    "#no divisible by 5 & 11\n",
    "n=int(input(\"enter a number\"))\n",
    "if n%5==0 & n%11==0:\n",
    "    print(\"the numner is divisible by 5 and 11\")\n",
    "else:\n",
    "    print(\"number is not divisible by 5 and 11\")\n"
   ]
  },
  {
   "cell_type": "code",
   "execution_count": 23,
   "metadata": {},
   "outputs": [
    {
     "name": "stdout",
     "output_type": "stream",
     "text": [
      "Alphabet is vowel\n"
     ]
    }
   ],
   "source": [
    "#vowel or consonant \n",
    "alpha=input(\"Enter an alphabet\")\n",
    "if(alpha in 'a','e','i','o','u'):\n",
    "    print(\"Alphabet is vowel\")\n",
    "else:\n",
    "    print(\"Alphabet is a consonent\")\n"
   ]
  },
  {
   "cell_type": "code",
   "execution_count": 1,
   "metadata": {},
   "outputs": [
    {
     "name": "stdout",
     "output_type": "stream",
     "text": [
      "grade C:\n"
     ]
    }
   ],
   "source": [
    "#mark of 5 student and print grade \n",
    "physics=int (input(\"enter the mark:\"))\n",
    "chemistry=int(input(\"enter the mark:\"))\n",
    "biology=int(input(\"enter the no:\"))\n",
    "mathematics=int(input(\"enter the no:\"))\n",
    "computer=int(input(\"enter the no :\"))\n",
    "percentage=((physics+chemistry+biology+mathematics+computer)/500)*100\n",
    "if percentage>=90:\n",
    "    print(\"grade A:\")\n",
    "elif percentage>=75:\n",
    "    print(\"grade B:\")\n",
    "elif percentage>=65:\n",
    "    print(\"grade C:\") \n",
    "elif percentage>=55:\n",
    "    print(\"grade D:\")\n",
    "elif percentage>45:\n",
    "    print(\"grade E:\")\n",
    "elif percanatage>=45:\n",
    "    print(\"grade E:\") \n",
    "     "
   ]
  },
  {
   "cell_type": "code",
   "execution_count": 3,
   "metadata": {},
   "outputs": [
    {
     "ename": "SyntaxError",
     "evalue": "invalid syntax. Perhaps you forgot a comma? (73134868.py, line 4)",
     "output_type": "error",
     "traceback": [
      "\u001b[1;36m  Cell \u001b[1;32mIn[3], line 4\u001b[1;36m\u001b[0m\n\u001b[1;33m    hra =(basic salary  )\u001b[0m\n\u001b[1;37m          ^\u001b[0m\n\u001b[1;31mSyntaxError\u001b[0m\u001b[1;31m:\u001b[0m invalid syntax. Perhaps you forgot a comma?\n"
     ]
    }
   ],
   "source": [
    "#gross salary \n",
    "basicsalary =int(input (\"enter the basic salary:\"))\n",
    "if  basicsalary <=1000:\n",
    "   hra =(basic salary  )\n",
    " "
   ]
  },
  {
   "cell_type": "code",
   "execution_count": null,
   "metadata": {},
   "outputs": [],
   "source": [
    "\n",
    "\n",
    "\n",
    "\n",
    "\n",
    "\n",
    "\n",
    "\n",
    "\n",
    "\n",
    "\n"
   ]
  }
 ],
 "metadata": {
  "kernelspec": {
   "display_name": "base",
   "language": "python",
   "name": "python3"
  },
  "language_info": {
   "codemirror_mode": {
    "name": "ipython",
    "version": 3
   },
   "file_extension": ".py",
   "mimetype": "text/x-python",
   "name": "python",
   "nbconvert_exporter": "python",
   "pygments_lexer": "ipython3",
   "version": "3.11.4"
  },
  "orig_nbformat": 4
 },
 "nbformat": 4,
 "nbformat_minor": 2
}
