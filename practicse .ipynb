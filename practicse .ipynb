{
 "cells": [
  {
   "cell_type": "markdown",
   "metadata": {},
   "source": [
    "# write a even number"
   ]
  },
  {
   "cell_type": "code",
   "execution_count": 2,
   "metadata": {},
   "outputs": [
    {
     "name": "stdout",
     "output_type": "stream",
     "text": [
      "2\n",
      "4\n",
      "6\n",
      "8\n",
      "10\n"
     ]
    }
   ],
   "source": [
    "n = int(input(\"enter the even number \"))\n",
    "for i in range(2,2*n+1,2):\n",
    "    print(i)"
   ]
  },
  {
   "cell_type": "markdown",
   "metadata": {},
   "source": [
    "# print odd number"
   ]
  },
  {
   "cell_type": "code",
   "execution_count": 3,
   "metadata": {},
   "outputs": [
    {
     "name": "stdout",
     "output_type": "stream",
     "text": [
      "1\n",
      "3\n",
      "5\n",
      "7\n"
     ]
    }
   ],
   "source": [
    "n=int(input(\"enter the odd number \"))\n",
    "for i in range(1,2*n,2):\n",
    "    print(i)"
   ]
  },
  {
   "cell_type": "markdown",
   "metadata": {},
   "source": [
    "# deternine the nuber of odd number and even number "
   ]
  },
  {
   "cell_type": "code",
   "execution_count": 7,
   "metadata": {},
   "outputs": [
    {
     "name": "stdout",
     "output_type": "stream",
     "text": [
      "enterd he odd number \n"
     ]
    }
   ],
   "source": [
    "n = int(input(\"enter ht number \"))\n",
    "if n %2 == 0:\n",
    "      print (\"enterd the even numbers\")\n",
    "else:\n",
    "      print(\"enterd he odd number \")\n",
    "    "
   ]
  },
  {
   "cell_type": "markdown",
   "metadata": {},
   "source": [
    "# find the amongast between three numbers "
   ]
  },
  {
   "cell_type": "code",
   "execution_count": 12,
   "metadata": {},
   "outputs": [
    {
     "name": "stdout",
     "output_type": "stream",
     "text": [
      "print smallest number is: 10.0\n"
     ]
    }
   ],
   "source": [
    "num1 =float(input(\"enter the irst value\"))\n",
    "num2 =float(input(\"enter the secand value \"))\n",
    "num3 =float(input(\"enter the third value\"))\n",
    "smallest =min(num1,num2,num3)\n",
    "print(\"print smallest number is:\",smallest)"
   ]
  },
  {
   "cell_type": "markdown",
   "metadata": {},
   "source": [
    "# calculate the monthaly telephone bills"
   ]
  },
  {
   "cell_type": "code",
   "execution_count": 24,
   "metadata": {},
   "outputs": [
    {
     "name": "stdout",
     "output_type": "stream",
     "text": [
      "print monthaly bill:Rs. 297.0\n"
     ]
    }
   ],
   "source": [
    "call=int(input(\"enter the number of calls\"))\n",
    "if call<=100:\n",
    "    bill =200\n",
    "elif call <=150:\n",
    "    bill = 200+(call-100)*0.60\n",
    "elif call <= 200:\n",
    "    bill = 200+50*0.60+(call-150)*0.50\n",
    "else:\n",
    "    bill = 200+50*0.60+50*0.50+(call-200)*0.40\n",
    "    print(\"print monthaly bill:Rs.\",bill)\n",
    "\n"
   ]
  },
  {
   "cell_type": "markdown",
   "metadata": {},
   "source": [
    "# write a palindrome number"
   ]
  },
  {
   "cell_type": "markdown",
   "metadata": {},
   "source": []
  },
  {
   "cell_type": "code",
   "execution_count": null,
   "metadata": {},
   "outputs": [],
   "source": [
    "n  = int(input(\"enter the value\"))\n",
    "i =0\n",
    "j =n\n",
    "while(n>0):\n",
    "    rem = n%10\n",
    "    i = i*10+rem\n",
    "    n = n//10\n",
    "    print\n",
    "    \n"
   ]
  },
  {
   "cell_type": "code",
   "execution_count": null,
   "metadata": {},
   "outputs": [],
   "source": []
  }
 ],
 "metadata": {
  "kernelspec": {
   "display_name": "base",
   "language": "python",
   "name": "python3"
  },
  "language_info": {
   "codemirror_mode": {
    "name": "ipython",
    "version": 3
   },
   "file_extension": ".py",
   "mimetype": "text/x-python",
   "name": "python",
   "nbconvert_exporter": "python",
   "pygments_lexer": "ipython3",
   "version": "3.11.4"
  },
  "orig_nbformat": 4
 },
 "nbformat": 4,
 "nbformat_minor": 2
}
