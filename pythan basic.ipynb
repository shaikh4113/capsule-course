{
 "cells": [
  {
   "cell_type": "code",
   "execution_count": 2,
   "metadata": {},
   "outputs": [
    {
     "ename": "TypeError",
     "evalue": "can't multiply sequence by non-int of type 'str'",
     "output_type": "error",
     "traceback": [
      "\u001b[1;31m---------------------------------------------------------------------------\u001b[0m",
      "\u001b[1;31mTypeError\u001b[0m                                 Traceback (most recent call last)",
      "Cell \u001b[1;32mIn[2], line 5\u001b[0m\n\u001b[0;32m      3\u001b[0m rate_of_intrest\u001b[39m=\u001b[39m(\u001b[39minput\u001b[39m(\u001b[39m\"\u001b[39m\u001b[39menter the rate of intrest:\u001b[39m\u001b[39m\"\u001b[39m))\n\u001b[0;32m      4\u001b[0m time\u001b[39m=\u001b[39m(\u001b[39minput\u001b[39m(\u001b[39m\"\u001b[39m\u001b[39menter the time:\u001b[39m\u001b[39m\"\u001b[39m))\n\u001b[1;32m----> 5\u001b[0m si\u001b[39m=\u001b[39mprincipal_amount\u001b[39m*\u001b[39;49mrate_of_intrest\u001b[39m*\u001b[39;49mtime\u001b[39m/\u001b[39m\u001b[39m/\u001b[39m\u001b[39m100\u001b[39m\n\u001b[0;32m      6\u001b[0m \u001b[39mprint\u001b[39m(\u001b[39m\"\u001b[39m\u001b[39msimple intrest:\u001b[39m\u001b[39m\"\u001b[39m, si )\n",
      "\u001b[1;31mTypeError\u001b[0m: can't multiply sequence by non-int of type 'str'"
     ]
    }
   ],
   "source": [
    "#simple intrest\n",
    "principal_amount=int(input(\"enter the principal amount:\"))\n",
    "rate_of_intrest=(input(\"enter the rate of intrest:\"))\n",
    "time=(input(\"enter the time:\"))\n",
    "si=principal_amount*rate_of_intrest*time//100\n",
    "print(\"simple intrest:\", si )"
   ]
  },
  {
   "cell_type": "code",
   "execution_count": null,
   "metadata": {},
   "outputs": [
    {
     "ename": "SyntaxError",
     "evalue": "invalid syntax (865796139.py, line 3)",
     "output_type": "error",
     "traceback": [
      "\u001b[1;36m  Cell \u001b[1;32mIn[11], line 3\u001b[1;36m\u001b[0m\n\u001b[1;33m    perimeter of square=(4*lenth)\u001b[0m\n\u001b[1;37m              ^\u001b[0m\n\u001b[1;31mSyntaxError\u001b[0m\u001b[1;31m:\u001b[0m invalid syntax\n"
     ]
    }
   ],
   "source": [
    "#perimeter of square\n",
    "lenth=int(input(\"enter the lenth:\"))\n",
    "perimeter of square=(4*lenth)   \n",
    "print(\"parimeter of square :\",parimeter of square)"
   ]
  },
  {
   "cell_type": "code",
   "execution_count": 1,
   "metadata": {},
   "outputs": [],
   "source": [
    "#area of square\n",
    "side_1=int(input(\"enter first sidde of value:\")) \n",
    "side_2=int(input(\"enter secand side of value:\"))\n",
    "area_of_square= side_1*side_2\n",
    "print(\"area of square:\",area_of_square )"
   ]
  },
  {
   "cell_type": "code",
   "execution_count": null,
   "metadata": {},
   "outputs": [
    {
     "name": "stderr",
     "output_type": "stream",
     "text": [
      "<>:4: SyntaxWarning: 'int' object is not callable; perhaps you missed a comma?\n",
      "<>:4: SyntaxWarning: 'int' object is not callable; perhaps you missed a comma?\n",
      "C:\\Users\\Arshad\\AppData\\Local\\Temp\\ipykernel_1124\\2168142334.py:4: SyntaxWarning: 'int' object is not callable; perhaps you missed a comma?\n",
      "  perimeter_of_rectangle=2(lenth+width)\n"
     ]
    },
    {
     "ename": "TypeError",
     "evalue": "'int' object is not callable",
     "output_type": "error",
     "traceback": [
      "\u001b[1;31m---------------------------------------------------------------------------\u001b[0m",
      "\u001b[1;31mTypeError\u001b[0m                                 Traceback (most recent call last)",
      "Cell \u001b[1;32mIn[7], line 4\u001b[0m\n\u001b[0;32m      2\u001b[0m lenth\u001b[39m=\u001b[39m\u001b[39mint\u001b[39m(\u001b[39minput\u001b[39m(\u001b[39m\"\u001b[39m\u001b[39menter lenth:\u001b[39m\u001b[39m\"\u001b[39m))  \n\u001b[0;32m      3\u001b[0m width\u001b[39m=\u001b[39m\u001b[39mint\u001b[39m(\u001b[39minput\u001b[39m(\u001b[39m\"\u001b[39m\u001b[39menter width:\u001b[39m\u001b[39m\"\u001b[39m))\n\u001b[1;32m----> 4\u001b[0m perimeter_of_rectangle\u001b[39m=\u001b[39m\u001b[39m2\u001b[39;49m(lenth\u001b[39m+\u001b[39;49mwidth)\n\u001b[0;32m      5\u001b[0m \u001b[39mprint\u001b[39m(\u001b[39m\"\u001b[39m\u001b[39mperimeter_of_rectangle:\u001b[39m\u001b[39m\"\u001b[39m,perimeter_of_rectangle ) \n",
      "\u001b[1;31mTypeError\u001b[0m: 'int' object is not callable"
     ]
    }
   ],
   "source": [
    "#perimeter of rectangle:-\n",
    "lenth=int(input(\"enter lenth: \",))  //22\n",
    "width=int(input(\"enter width: \",))  //11 \n",
    "perimeter_of_rectangle=2*(lenth+width) //2*(22+11)\n",
    "print(\"perimeter_of_rectangle:\",perimeter_of_rectangle ) "
   ]
  },
  {
   "cell_type": "code",
   "execution_count": null,
   "metadata": {},
   "outputs": [
    {
     "name": "stdout",
     "output_type": "stream",
     "text": [
      "you are eligble for voting 20\n"
     ]
    }
   ],
   "source": [
    "#voting system using if &else\n",
    "\n",
    "age=int(input(\"enter the age:\"))\n",
    "if(age>=18):\n",
    "    print(\"you are eligble for voting\",20)\n",
    "else:\n",
    "    print(\"you are not eligble for voting\",15)"
   ]
  },
  {
   "cell_type": "code",
   "execution_count": null,
   "metadata": {},
   "outputs": [
    {
     "ename": "ValueError",
     "evalue": "invalid literal for int() with base 10: '20>22'",
     "output_type": "error",
     "traceback": [
      "\u001b[1;31m---------------------------------------------------------------------------\u001b[0m",
      "\u001b[1;31mValueError\u001b[0m                                Traceback (most recent call last)",
      "Cell \u001b[1;32mIn[12], line 4\u001b[0m\n\u001b[0;32m      1\u001b[0m \u001b[39m#greter & lesser using if & else\u001b[39;00m\n\u001b[0;32m      3\u001b[0m a\u001b[39m=\u001b[39m\u001b[39mint\u001b[39m(\u001b[39minput\u001b[39m(\u001b[39m\"\u001b[39m\u001b[39menter the first value:\u001b[39m\u001b[39m\"\u001b[39m))\n\u001b[1;32m----> 4\u001b[0m b\u001b[39m=\u001b[39m\u001b[39mint\u001b[39;49m(\u001b[39minput\u001b[39;49m(\u001b[39m\"\u001b[39;49m\u001b[39menter the second value:\u001b[39;49m\u001b[39m\"\u001b[39;49m))\n\u001b[0;32m      5\u001b[0m \u001b[39mif\u001b[39;00m(a\u001b[39m>\u001b[39mb):\n\u001b[0;32m      6\u001b[0m     \u001b[39mprint\u001b[39m(\u001b[39m\"\u001b[39m\u001b[39msecand value is greter=\u001b[39m\u001b[39m\"\u001b[39m, b)\n",
      "\u001b[1;31mValueError\u001b[0m: invalid literal for int() with base 10: '20>22'"
     ]
    }
   ],
   "source": [
    "#greter & lesser using if & else (two value)\n",
    "\n",
    "a=int(input(\"enter the first value:\"))\n",
    "b=int(input(\"enter the second value:\"))\n",
    "if(a>b):\n",
    "    print(\"second value is greter=\", 100)\n",
    "else:\n",
    "    print(\"first value is greater=:\", 200)"
   ]
  },
  {
   "cell_type": "markdown",
   "metadata": {},
   "source": []
  },
  {
   "cell_type": "code",
   "execution_count": null,
   "metadata": {},
   "outputs": [
    {
     "name": "stdout",
     "output_type": "stream",
     "text": [
      "10.0\n",
      "<class 'float'>\n"
     ]
    }
   ],
   "source": [
    "#data type\n",
    "x=20/2\n",
    "print(x)\n",
    "print(type(x))\n",
    "\n",
    "\n",
    "\n",
    "\n",
    "\n"
   ]
  },
  {
   "cell_type": "code",
   "execution_count": null,
   "metadata": {},
   "outputs": [],
   "source": [
    "#write a program to calculate the profit,loss and profit [percentage]\n"
   ]
  },
  {
   "cell_type": "code",
   "execution_count": null,
   "metadata": {},
   "outputs": [],
   "source": [
    "#write a program volume of cube and cubiod\n",
    "lenth=float(input(\"enter the lenth of cubiod:\"))\n"
   ]
  },
  {
   "cell_type": "code",
   "execution_count": null,
   "metadata": {},
   "outputs": [
    {
     "ename": "NameError",
     "evalue": "name 'obtain_' is not defined",
     "output_type": "error",
     "traceback": [
      "\u001b[1;31m---------------------------------------------------------------------------\u001b[0m",
      "\u001b[1;31mNameError\u001b[0m                                 Traceback (most recent call last)",
      "Cell \u001b[1;32mIn[1], line 7\u001b[0m\n\u001b[0;32m      4\u001b[0m math\u001b[39m=\u001b[39m\u001b[39mint\u001b[39m(\u001b[39minput\u001b[39m(\u001b[39m\"\u001b[39m\u001b[39mmark of math\u001b[39m\u001b[39m\"\u001b[39m))\n\u001b[0;32m      6\u001b[0m obtain_mark\u001b[39m=\u001b[39mphysics\u001b[39m+\u001b[39mchemistry\u001b[39m+\u001b[39mmath\n\u001b[1;32m----> 7\u001b[0m percantage\u001b[39m=\u001b[39mobtain_\u001b[39m/\u001b[39m\u001b[39m300\u001b[39m\u001b[39m*\u001b[39m\u001b[39m100\u001b[39m\n\u001b[0;32m      8\u001b[0m \u001b[39mprint\u001b[39m(\u001b[39m\"\u001b[39m\u001b[39mprint your percantage is:\u001b[39m\u001b[39m\"\u001b[39m,percantage)\n",
      "\u001b[1;31mNameError\u001b[0m: name 'obtain_' is not defined"
     ]
    }
   ],
   "source": [
    "#total number\n",
    "physics=int(input(\"mark of physics\"))\n",
    "chemistry=int(input(\"mark of chemistry\"))\n",
    "math=int(input(\"mark of math\"))\n",
    "\n",
    "obtain_mark=physics+chemistry+math\n",
    "percantage=obtain_/300*100\n",
    "print(\"print your percantage is:\",percantage)\n",
    "\n",
    "\n",
    "\n",
    "\n"
   ]
  },
  {
   "cell_type": "code",
   "execution_count": null,
   "metadata": {},
   "outputs": [],
   "source": []
  },
  {
   "cell_type": "code",
   "execution_count": 1,
   "metadata": {},
   "outputs": [
    {
     "name": "stdout",
     "output_type": "stream",
     "text": [
      "the percentage socred by student 83.39999999999999\n"
     ]
    }
   ],
   "source": [
    "#uses of (if) control flow condition\n",
    " \n",
    "\n",
    "x = input(\"enter the name of student\")\n",
    "a = int(input(\"enter the marks socred in english\"))\n",
    "b = int(input(\"enter the marks scored in hindi \"))\n",
    "c = int(input(\"enter the marks socred in maths\"))\n",
    "d = int(input(\"enter the marks socred in science\"))\n",
    "e = int(input(\"enter the marks socred ins socil\"))\n",
    "n =(a+b+c+d+e)/500*100\n",
    "print(\"the percentage socred by student\",n)\n"
   ]
  },
  {
   "cell_type": "markdown",
   "metadata": {},
   "source": []
  },
  {
   "cell_type": "markdown",
   "metadata": {},
   "source": [
    " a=47\n",
    " b=13\n",
    " print(\"a+b\")"
   ]
  },
  {
   "cell_type": "markdown",
   "metadata": {},
   "source": [
    "#write a "
   ]
  }
 ],
 "metadata": {
  "kernelspec": {
   "display_name": "base",
   "language": "python",
   "name": "python3"
  },
  "language_info": {
   "codemirror_mode": {
    "name": "ipython",
    "version": 3
   },
   "file_extension": ".py",
   "mimetype": "text/x-python",
   "name": "python",
   "nbconvert_exporter": "python",
   "pygments_lexer": "ipython3",
   "version": "3.11.4"
  },
  "orig_nbformat": 4
 },
 "nbformat": 4,
 "nbformat_minor": 2
}
