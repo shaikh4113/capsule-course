{
 "cells": [
  {
   "cell_type": "code",
   "execution_count": null,
   "metadata": {},
   "outputs": [],
   "source": [
    " a=(int)(input(\"enter a number\"))\n",
    "temp = a\n",
    "sum=0\n",
    "while temp!=0:\n",
    "    rem=temp%10\n",
    "    temp=temp//10\n",
    "    sum = sum*10+rem\n",
    "\n",
    "if sum == a:\n",
    "    print(f\"{a} is a palendrome number\")\n",
    "else:\n",
    "    print(f\"{a} is not a palendrom number\")\n",
    "\n"
   ]
  }
 ],
 "metadata": {
  "language_info": {
   "name": "python"
  },
  "orig_nbformat": 4
 },
 "nbformat": 4,
 "nbformat_minor": 2
}
