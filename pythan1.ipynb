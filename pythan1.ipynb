{
 "cells": [
  {
   "cell_type": "code",
   "execution_count": null,
   "metadata": {},
   "outputs": [],
   "source": []
  },
  {
   "cell_type": "code",
   "execution_count": 1,
   "metadata": {},
   "outputs": [
    {
     "name": "stdout",
     "output_type": "stream",
     "text": [
      "value of a: 10\n",
      "value of b:  10\n",
      "value of c:  10\n",
      "value of d: 10\n"
     ]
    }
   ],
   "source": [
    "a=10\n",
    "b=10\n",
    "c=10\n",
    "d=10\n",
    "\n",
    "print(\"value of a:\" ,a)\n",
    "print(\"value of b: \",c)\n",
    "print(\"value of c: \",c)\n",
    "print(\"value of d:\" ,d)"
   ]
  },
  {
   "cell_type": "code",
   "execution_count": 6,
   "metadata": {},
   "outputs": [
    {
     "name": "stdout",
     "output_type": "stream",
     "text": [
      "value of a: 10\n",
      "value of b: 10\n",
      "value of c: 10\n",
      "value of d: 10\n"
     ]
    }
   ],
   "source": [
    "\n",
    "a=b=c=d=10\n",
    "print(\"value of a:\",a)\n",
    "print(\"value of b:\",b)\n",
    "print(\"value of c:\",c)\n",
    "print(\"value of d:\",d)\n",
    "\n",
    "\n"
   ]
  },
  {
   "cell_type": "code",
   "execution_count": 18,
   "metadata": {},
   "outputs": [
    {
     "ename": "SyntaxError",
     "evalue": "invalid syntax (1010747600.py, line 7)",
     "output_type": "error",
     "traceback": [
      "\u001b[1;36m  Cell \u001b[1;32mIn[18], line 7\u001b[1;36m\u001b[0m\n\u001b[1;33m    type(a):(class'int')\u001b[0m\n\u001b[1;37m           ^\u001b[0m\n\u001b[1;31mSyntaxError\u001b[0m\u001b[1;31m:\u001b[0m invalid syntax\n"
     ]
    }
   ],
   "source": [
    "a=10\n",
    "b=10.45\n",
    "c=a\n",
    "d= Aakhya,\n",
    "e= Aman,\n",
    "\n",
    "type(a):(class'int')\n",
    "type(b):(class'float')\n",
    "type(c):(class'sting')\n",
    "type(d):(clas('string')\n",
    "type(e):(class'string')\n"
   ]
  },
  {
   "cell_type": "code",
   "execution_count": 13,
   "metadata": {},
   "outputs": [
    {
     "ename": "IndentationError",
     "evalue": "unindent does not match any outer indentation level (<tokenize>, line 12)",
     "output_type": "error",
     "traceback": [
      "\u001b[1;36m  File \u001b[1;32m<tokenize>:12\u001b[1;36m\u001b[0m\n\u001b[1;33m    print(\"simple intrest:, \"si)\u001b[0m\n\u001b[1;37m    ^\u001b[0m\n\u001b[1;31mIndentationError\u001b[0m\u001b[1;31m:\u001b[0m unindent does not match any outer indentation level\n"
     ]
    }
   ],
   "source": [
    "#simple intrest\n",
    "\n",
    "\n",
    "\n",
    "  principale amount =int(input(\"enter the principle valu: \"))\n",
    "  rate amount=int(input(\"enter the rate: \"))\n",
    "  time amount=int(input(\"enter the time: \"))\n",
    "  simple intrest =principale*rate amount*time amount//100\n",
    "\n",
    "\n",
    "\n",
    " print(\"simple intrest:, \"si)"
   ]
  },
  {
   "cell_type": "code",
   "execution_count": 18,
   "metadata": {},
   "outputs": [
    {
     "name": "stdout",
     "output_type": "stream",
     "text": [
      "1\n",
      "3\n",
      "5\n",
      "7\n",
      "9\n"
     ]
    }
   ],
   "source": [
    "n=int(input(\"enter the odd number number \"))\n",
    "for i in range(1,2+n,2):\n",
    "    print(i)"
   ]
  },
  {
   "cell_type": "markdown",
   "metadata": {},
   "source": []
  },
  {
   "cell_type": "markdown",
   "metadata": {},
   "source": []
  }
 ],
 "metadata": {
  "kernelspec": {
   "display_name": "base",
   "language": "python",
   "name": "python3"
  },
  "language_info": {
   "codemirror_mode": {
    "name": "ipython",
    "version": 3
   },
   "file_extension": ".py",
   "mimetype": "text/x-python",
   "name": "python",
   "nbconvert_exporter": "python",
   "pygments_lexer": "ipython3",
   "version": "3.11.4"
  },
  "orig_nbformat": 4
 },
 "nbformat": 4,
 "nbformat_minor": 2
}
